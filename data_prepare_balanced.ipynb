{
 "cells": [
  {
   "cell_type": "code",
   "execution_count": 1,
   "metadata": {
    "id": "Gzuv2run9Yxa"
   },
   "outputs": [
    {
     "name": "stderr",
     "output_type": "stream",
     "text": [
      "C:\\Users\\rsorokin\\Anaconda3\\lib\\site-packages\\torchvision\\io\\image.py:11: UserWarning: Failed to load image Python extension: Could not find module 'C:\\Users\\rsorokin\\Anaconda3\\Lib\\site-packages\\torchvision\\image.pyd' (or one of its dependencies). Try using the full path with constructor syntax.\n",
      "  warn(f\"Failed to load image Python extension: {e}\")\n"
     ]
    }
   ],
   "source": [
    "import pandas as pd \n",
    "import numpy as np\n",
    "import glob\n",
    "from tqdm import tqdm\n",
    "import cv2\n",
    "from sklearn.model_selection import train_test_split\n",
    "\n",
    "import torch\n",
    "import torch.nn as nn\n",
    "import torch.optim as optim\n",
    "from torch.utils.data import Dataset\n",
    "from torchvision import datasets, models, transforms\n",
    "from torchvision.models import resnet18\n",
    "\n",
    "from PIL import Image\n",
    "import matplotlib.pyplot as plt\n",
    "from IPython.display import clear_output"
   ]
  },
  {
   "cell_type": "code",
   "execution_count": 15,
   "metadata": {},
   "outputs": [],
   "source": [
    "import shutil"
   ]
  },
  {
   "cell_type": "code",
   "execution_count": 2,
   "metadata": {},
   "outputs": [],
   "source": [
    "import albumentations as A\n",
    "from albumentations.pytorch import ToTensorV2\n",
    "import matplotlib.pyplot as plt"
   ]
  },
  {
   "cell_type": "code",
   "execution_count": 3,
   "metadata": {},
   "outputs": [],
   "source": [
    "import os\n",
    "from pathlib import Path"
   ]
  },
  {
   "cell_type": "markdown",
   "metadata": {
    "id": "l5MpBxb2MjsO"
   },
   "source": [
    "## Датасет\n",
    "\n",
    "Прежде чем разбираться с моделями, нам надо в первую очередь разобраться с тем, как грузить датасет. Давайте напишем класс в торче для этого."
   ]
  },
  {
   "cell_type": "code",
   "execution_count": 44,
   "metadata": {
    "id": "5vqgjSAyMwT4"
   },
   "outputs": [],
   "source": [
    "# читаем датасет\n",
    "data_df = pd.read_csv(\"../train_dataset_train/train.csv\")"
   ]
  },
  {
   "cell_type": "code",
   "execution_count": 45,
   "metadata": {
    "colab": {
     "base_uri": "https://localhost:8080/"
    },
    "id": "ILs-YFuYMyvW",
    "outputId": "962dd22a-cde6-47c5-e900-67f6e358c05d"
   },
   "outputs": [
    {
     "name": "stdout",
     "output_type": "stream",
     "text": [
      "Обучающей выборки  543\n",
      "Тестовой выборки  225\n"
     ]
    },
    {
     "data": {
      "text/plain": [
       "<AxesSubplot:xlabel='class', ylabel='count'>"
      ]
     },
     "execution_count": 45,
     "metadata": {},
     "output_type": "execute_result"
    },
    {
     "data": {
      "image/png": "[encoded data removed]",
      "text/plain": [
       "<Figure size 432x288 with 1 Axes>"
      ]
     },
     "metadata": {
      "needs_background": "light"
     },
     "output_type": "display_data"
    }
   ],
   "source": [
    "from os import listdir\n",
    "\n",
    "print(\"Обучающей выборки \" ,len(listdir(\"../train_dataset_train/train\")))\n",
    "print(\"Тестовой выборки \" ,len(listdir(\"../test_dataset_test\")))\n",
    "\n",
    "\n",
    "import seaborn as sns\n",
    "import warnings\n",
    " \n",
    "warnings.simplefilter('ignore')\n",
    "sns.countplot(x = \"class\" , data  = data_df)"
   ]
  },
  {
   "cell_type": "code",
   "execution_count": 46,
   "metadata": {},
   "outputs": [
    {
     "data": {
      "text/plain": [
       "1.0    0.537753\n",
       "2.0    0.274401\n",
       "0.0    0.187845\n",
       "Name: class, dtype: float64"
      ]
     },
     "execution_count": 46,
     "metadata": {},
     "output_type": "execute_result"
    }
   ],
   "source": [
    "data_df['class'].value_counts(normalize=True)"
   ]
  },
  {
   "cell_type": "code",
   "execution_count": 47,
   "metadata": {},
   "outputs": [
    {
     "data": {
      "text/plain": [
       "1.0    292\n",
       "2.0    149\n",
       "0.0    102\n",
       "Name: class, dtype: int64"
      ]
     },
     "execution_count": 47,
     "metadata": {},
     "output_type": "execute_result"
    }
   ],
   "source": [
    "data_df['class'].value_counts()"
   ]
  },
  {
   "cell_type": "code",
   "execution_count": 48,
   "metadata": {},
   "outputs": [],
   "source": [
    "dpi = 100"
   ]
  },
  {
   "cell_type": "raw",
   "metadata": {
    "colab": {
     "base_uri": "https://localhost:8080/"
    },
    "id": "vKrQJ-5zNrwQ",
    "outputId": "7b4cae12-7602-435e-d218-2dc3762137e7"
   },
   "source": [
    "for name in data_df[ data_df['class'].isin([0])]['ID_img']:\n",
    "    print(name)\n",
    "    print(data_df[data_df['ID_img']==name]['class'].iloc[0])\n",
    "    img = plt.imread(f\"../train_dataset_train/train/{name}\")\n",
    "    height, width, depth = img.shape\n",
    "    figsize = width / float(dpi), height / float(dpi)\n",
    "    plt.figure(figsize=figsize)\n",
    "    plt.imshow(img)\n",
    "    plt.show()"
   ]
  },
  {
   "cell_type": "code",
   "execution_count": 49,
   "metadata": {},
   "outputs": [],
   "source": [
    "# переразметим все\n",
    "bads_list = {\n",
    "    '220303100248_43538bd76cef189b146930c939c79643.jpg': 2,\n",
    "    '220306063056_28f4148f4525050e92a5eec4c6b8c233.jpg': 2,\n",
    "    '220307012903_c2e25c71975244587fb02517aec28abb.jpg': 2,\n",
    "    '220307023015_d7805fde0aeda728f0136ec7482cc43f.jpg': 2,\n",
    "    '220307023034_9d7ebe271649a6ebbc3494c026126869.jpg': 2,\n",
    "    '220307023255_998d453b3382de234da4e1239b8e36e8.jpg': 2,\n",
    "    '220307024716_902e232dfe9c5ac55643703abcbf1d11.jpg': 2,\n",
    "    '220307123436_a755745087e8d1f6efb7dde875b3f1be.jpg': 2,\n",
    "    '220308020735_cea2a44d3ec96fa3d36bae829d63b11e.jpg': 2,\n",
    "    '220308020750_05d4f485efad771de30f3e727694722a.jpg': 2,\n",
    "    '220307021153_7377b7a46d03d4a1ccc04ea66ac77150.jpg':1,\n",
    "    '220307021411_79d767ce528d22b1a5c883473c9a078f.jpg':1,\n",
    "    '220307023940_f1c6e2ecdfb8557166546183c11c5eaa.jpg':1,\n",
    "    '220307023943_8bffc92c4f2c2f7a8b9d3400446a48c5.jpg':1,\n",
    "    '220307024146_b8a7a4d768c4e710b5b5f874b6099dbc.jpg':1,\n",
    "    '220307024828_7b3e78fd1789a8c474db8346747a0d0d.jpg':1,\n",
    "    '220307025438_bcb8831f5a1aba7e89830d66a8cfc83a.jpg':1,\n",
    "    '220307025439_fdcf8babf0f0a876052ce64556e16141.jpg':1,\n",
    "    '220307030904_b253c43b3f77dcb1cdff52c914f91f4e.jpg':1,\n",
    "    '220307030931_4baa51f5a816e728f78329ba24b5bf3a.jpg':1,\n",
    "    '220307032433_3e4a73bc6393a5753ca1e0746cb05101.jpg':1,\n",
    "    '220307033323_00a172d26fe64536ba7a3ca7bbae7bad.jpg':1,\n",
    "    '220307034130_4a60f420af65f5979fcfaea0f31dcc71.jpg':1,\n",
    "    '220307082216_0334b4f0693f5de2fff068503919cb86.jpg':1,\n",
    "    '220307082227_0042c81cac5dc917687d26d3de8acfd2.jpg':1,\n",
    "    '220307135416_276e578f15a59662a23ce7c5aa62d278.jpg':1\n",
    "}"
   ]
  },
  {
   "cell_type": "code",
   "execution_count": 50,
   "metadata": {},
   "outputs": [],
   "source": [
    "data_df_clear = data_df.copy()\n",
    "for name in bads_list.keys():\n",
    "    data_df_clear.loc[data_df_clear['ID_img']==name, 'class'] = bads_list[name]"
   ]
  },
  {
   "cell_type": "code",
   "execution_count": 51,
   "metadata": {},
   "outputs": [
    {
     "data": {
      "text/plain": [
       "234    2.0\n",
       "Name: class, dtype: float64"
      ]
     },
     "execution_count": 51,
     "metadata": {},
     "output_type": "execute_result"
    }
   ],
   "source": [
    "data_df[data_df['ID_img']==name]['class']"
   ]
  },
  {
   "cell_type": "code",
   "execution_count": 52,
   "metadata": {},
   "outputs": [
    {
     "data": {
      "text/plain": [
       "234    1.0\n",
       "Name: class, dtype: float64"
      ]
     },
     "execution_count": 52,
     "metadata": {},
     "output_type": "execute_result"
    }
   ],
   "source": [
    "data_df_clear[data_df_clear['ID_img']==name]['class']"
   ]
  },
  {
   "cell_type": "code",
   "execution_count": 55,
   "metadata": {},
   "outputs": [],
   "source": [
    "data_df_clear.to_csv('../train_dataset_train/train_clear.csv', index=False)"
   ]
  },
  {
   "cell_type": "raw",
   "metadata": {
    "colab": {
     "base_uri": "https://localhost:8080/"
    },
    "id": "vKrQJ-5zNrwQ",
    "outputId": "7b4cae12-7602-435e-d218-2dc3762137e7"
   },
   "source": [
    "for name in bads_list.keys():\n",
    "    print(name)\n",
    "    print(data_df[data_df['ID_img']==name]['class'].iloc[0])\n",
    "    img = plt.imread(f\"../train_dataset_train/train/{name}\")\n",
    "    height, width, depth = img.shape\n",
    "    figsize = width / float(dpi), height / float(dpi)\n",
    "    plt.figure(figsize=figsize)\n",
    "    plt.imshow(img)\n",
    "    plt.show()"
   ]
  },
  {
   "cell_type": "markdown",
   "metadata": {},
   "source": [
    "# Готовим датасет для обучения"
   ]
  },
  {
   "cell_type": "raw",
   "metadata": {},
   "source": [
    "пайплайн:\n",
    "    0. Чистим данные\n",
    "    1. Одна сетка на все вопросы\n",
    "    2. Делаю заранее:\n",
    "        добавить скаченных мусорок 2к1 (600) или 1к1 (300)\n",
    "        добавть 90 новых без мусорок, добавить дубли с флипам и кропами (добить до 1ого класса)\n",
    "        добавить булры + (кропы/флипы/темных). Из хороших добавить 150 испорченных. Затем эти 300 дополнительно кропая и флипаю.\n",
    "    3. Написать лосс.\n",
    "    4. Передлать трансформацию."
   ]
  },
  {
   "cell_type": "markdown",
   "metadata": {},
   "source": [
    "## Dataset all balanced"
   ]
  },
  {
   "cell_type": "raw",
   "metadata": {},
   "source": [
    "2. Делаю заранее:\n",
    "    добавть без мусорок, добавить дубли с флипам и кропами (добить до 1ого класса)\n",
    "    добавить блуры + (кропы/флипы/темных). Из хороших добавить 150 испорченных. Затем эти 300 дополнительно кропая и флипаю"
   ]
  },
  {
   "cell_type": "code",
   "execution_count": 217,
   "metadata": {},
   "outputs": [],
   "source": [
    "data_df = pd.concat(\n",
    "    [\n",
    "        pd.read_csv(\"../train_add_class_0/train.csv\"),\n",
    "        pd.read_csv(\"../train_add_class_1//train.csv\"),\n",
    "        pd.read_csv(\"../train_add_3_class_1/train.csv\")\n",
    "    ]\n",
    ")"
   ]
  },
  {
   "cell_type": "code",
   "execution_count": 219,
   "metadata": {},
   "outputs": [],
   "source": [
    "data_df.to_csv('../prepare_datasets/data_add_all_balanced/train_add.csv', index=False)"
   ]
  },
  {
   "cell_type": "code",
   "execution_count": 220,
   "metadata": {},
   "outputs": [],
   "source": [
    "data_df_all = pd.concat(\n",
    "    [data_df, pd.read_csv('../prepare_datasets/data_add_all_balanced/train_clear.csv')],\n",
    ")"
   ]
  },
  {
   "cell_type": "code",
   "execution_count": 221,
   "metadata": {},
   "outputs": [],
   "source": [
    "data_df_all.to_csv('../prepare_datasets/data_add_all_balanced/train_all.csv', index=False)"
   ]
  },
  {
   "cell_type": "code",
   "execution_count": 225,
   "metadata": {
    "scrolled": true
   },
   "outputs": [
    {
     "data": {
      "text/plain": [
       "<AxesSubplot:xlabel='class', ylabel='count'>"
      ]
     },
     "execution_count": 225,
     "metadata": {},
     "output_type": "execute_result"
    },
    {
     "data": {
      "image/png": "[encoded data removed]",
      "text/plain": [
       "<Figure size 432x288 with 1 Axes>"
      ]
     },
     "metadata": {
      "needs_background": "light"
     },
     "output_type": "display_data"
    }
   ],
   "source": [
    "sns.countplot(x = \"class\" , data  = data_df_all)"
   ]
  },
  {
   "cell_type": "code",
   "execution_count": 226,
   "metadata": {},
   "outputs": [
    {
     "data": {
      "text/plain": [
       "1.0    0.614359\n",
       "0.0    0.238974\n",
       "2.0    0.146667\n",
       "Name: class, dtype: float64"
      ]
     },
     "execution_count": 226,
     "metadata": {},
     "output_type": "execute_result"
    }
   ],
   "source": [
    "data_df_all['class'].value_counts(normalize=True)"
   ]
  },
  {
   "cell_type": "code",
   "execution_count": 227,
   "metadata": {},
   "outputs": [
    {
     "data": {
      "text/plain": [
       "1.0      0\n",
       "0.0    366\n",
       "2.0    456\n",
       "Name: class, dtype: int64"
      ]
     },
     "execution_count": 227,
     "metadata": {},
     "output_type": "execute_result"
    }
   ],
   "source": [
    "need_to_add = data_df_all['class'].value_counts().max() - data_df_all['class'].value_counts()\n",
    "need_to_add#.reset_index()"
   ]
  },
  {
   "cell_type": "code",
   "execution_count": 230,
   "metadata": {},
   "outputs": [],
   "source": [
    "need_class_0 = 366\n",
    "need_class_2 = 456"
   ]
  },
  {
   "cell_type": "code",
   "execution_count": 231,
   "metadata": {},
   "outputs": [],
   "source": [
    "def visualize(image):\n",
    "    plt.figure(figsize=(10, 10))\n",
    "    plt.axis('off')\n",
    "    plt.imshow(image)    "
   ]
  },
  {
   "cell_type": "code",
   "execution_count": 232,
   "metadata": {},
   "outputs": [
    {
     "data": {
      "text/html": [
       "<div>\n",
       "<style scoped>\n",
       "    .dataframe tbody tr th:only-of-type {\n",
       "        vertical-align: middle;\n",
       "    }\n",
       "\n",
       "    .dataframe tbody tr th {\n",
       "        vertical-align: top;\n",
       "    }\n",
       "\n",
       "    .dataframe thead th {\n",
       "        text-align: right;\n",
       "    }\n",
       "</style>\n",
       "<table border=\"1\" class=\"dataframe\">\n",
       "  <thead>\n",
       "    <tr style=\"text-align: right;\">\n",
       "      <th></th>\n",
       "      <th>ID_img</th>\n",
       "      <th>class</th>\n",
       "    </tr>\n",
       "  </thead>\n",
       "  <tbody>\n",
       "  </tbody>\n",
       "</table>\n",
       "</div>"
      ],
      "text/plain": [
       "Empty DataFrame\n",
       "Columns: [ID_img, class]\n",
       "Index: []"
      ]
     },
     "execution_count": 232,
     "metadata": {},
     "output_type": "execute_result"
    }
   ],
   "source": [
    "data_df[data_df['class']==2]"
   ]
  },
  {
   "cell_type": "code",
   "execution_count": 233,
   "metadata": {},
   "outputs": [],
   "source": [
    "image0 = cv2.imread('../train_dataset_train/train/220307030925_8cd419dd6ce8c72f66e2fd62d0d9eacf.jpg')\n",
    "image0 = cv2.cvtColor(image0, cv2.COLOR_BGR2RGB)\n",
    "\n",
    "image1 = cv2.imread(f\"{'../train_dataset_train/train/'}/220301091714_6a066f59c206a24a740589ab1dda00a9.jpg\")\n",
    "image1 = cv2.cvtColor(image1, cv2.COLOR_BGR2RGB)\n",
    "\n",
    "image2 = cv2.imread(f\"{'../train_dataset_train/train/'}/220307030904_b253c43b3f77dcb1cdff52c914f91f4e.jpg\")\n",
    "image2 = cv2.cvtColor(image2, cv2.COLOR_BGR2RGB)"
   ]
  },
  {
   "cell_type": "raw",
   "metadata": {},
   "source": [
    "visualize(image0)"
   ]
  },
  {
   "cell_type": "raw",
   "metadata": {},
   "source": [
    "image0.shape"
   ]
  },
  {
   "cell_type": "markdown",
   "metadata": {},
   "source": [
    "### добавть без мусорок, добавить дубли с флипам и кропами (добить до 1ого класса)"
   ]
  },
  {
   "cell_type": "code",
   "execution_count": 236,
   "metadata": {},
   "outputs": [],
   "source": [
    "need_class_0 = 366\n",
    "need_class_2 = 456"
   ]
  },
  {
   "cell_type": "code",
   "execution_count": 237,
   "metadata": {},
   "outputs": [],
   "source": [
    "zero_class_imgs = data_df_all[data_df_all['class']==0]['ID_img']\n",
    "first_class_imgs = data_df_all[data_df_all['class']==1]['ID_img']\n",
    "second_class_imgs = data_df_all[data_df_all['class']==2]['ID_img']"
   ]
  },
  {
   "cell_type": "code",
   "execution_count": 241,
   "metadata": {},
   "outputs": [
    {
     "data": {
      "text/plain": [
       "(233,)"
      ]
     },
     "execution_count": 241,
     "metadata": {},
     "output_type": "execute_result"
    }
   ],
   "source": [
    "zero_class_imgs.shape"
   ]
  },
  {
   "cell_type": "code",
   "execution_count": 238,
   "metadata": {},
   "outputs": [
    {
     "data": {
      "text/plain": [
       "366"
      ]
     },
     "execution_count": 238,
     "metadata": {},
     "output_type": "execute_result"
    }
   ],
   "source": [
    "need_class_0"
   ]
  },
  {
   "cell_type": "code",
   "execution_count": 239,
   "metadata": {},
   "outputs": [
    {
     "data": {
      "text/plain": [
       "456"
      ]
     },
     "execution_count": 239,
     "metadata": {},
     "output_type": "execute_result"
    }
   ],
   "source": [
    "need_class_2"
   ]
  },
  {
   "cell_type": "code",
   "execution_count": 242,
   "metadata": {},
   "outputs": [],
   "source": [
    "transform_add_zero_class = A.Compose(\n",
    "    [\n",
    "        A.HorizontalFlip(p=0.8),\n",
    "        A.Rotate(limit=20, p=0.8),\n",
    "#         A.RandomCrop(512, 512),\n",
    "        A.RandomResizedCrop(512, 512, scale=(0.2, 1.0)),\n",
    "    ]\n",
    ")"
   ]
  },
  {
   "cell_type": "code",
   "execution_count": 243,
   "metadata": {},
   "outputs": [
    {
     "data": {
      "text/plain": [
       "366"
      ]
     },
     "execution_count": 243,
     "metadata": {},
     "output_type": "execute_result"
    }
   ],
   "source": [
    "need_class_0"
   ]
  },
  {
   "cell_type": "code",
   "execution_count": 272,
   "metadata": {},
   "outputs": [
    {
     "data": {
      "text/plain": [
       "array(['0_3102.jpg', '220307023443_9d9db6e5ae45f66adc911ca994ff1265.jpg',\n",
       "       '0_3092.jpg'], dtype=object)"
      ]
     },
     "execution_count": 272,
     "metadata": {},
     "output_type": "execute_result"
    }
   ],
   "source": [
    "np.random.seed(42)\n",
    "img_to_trasnfor = np.random.choice(zero_class_imgs, size=need_class_0, replace=True)\n",
    "img_to_trasnfor[:3]"
   ]
  },
  {
   "cell_type": "code",
   "execution_count": 273,
   "metadata": {},
   "outputs": [
    {
     "name": "stderr",
     "output_type": "stream",
     "text": [
      "100%|████████████████████████████████████████████████████████████████████████████████| 366/366 [00:11<00:00, 32.78it/s]\n"
     ]
    }
   ],
   "source": [
    "for i in tqdm(img_to_trasnfor):\n",
    "    solt = np.random.randint(0, 1000)\n",
    "    destination_1 = f\"../prepare_datasets/data_add_all_balanced/all/{i}\"\n",
    "    destination_2 = f\"../prepare_datasets/data_add_all_balanced/train_add/{i.split('.')[0] + str(solt) + '_zero_crop.jpg'}\"\n",
    "    image = cv2.imread(destination_1)\n",
    "    image = cv2.cvtColor(image, cv2.COLOR_BGR2RGB)\n",
    "    if image.shape[0] < 512 or image.shape[1] < 512:\n",
    "        continue\n",
    "    else:\n",
    "        transformed = transform_add_zero_class(image=image)\n",
    "        cv2.imwrite(destination_2, cv2.cvtColor(transformed['image'], cv2.COLOR_RGB2BGR))\n"
   ]
  },
  {
   "cell_type": "markdown",
   "metadata": {},
   "source": [
    "###  Из хороших сделать 150 испорченных и добавить. Затем полученные 300 плохих дополнительно кропать и флипаьб до 1ого класса"
   ]
  },
  {
   "cell_type": "code",
   "execution_count": 338,
   "metadata": {},
   "outputs": [],
   "source": [
    "transform_add_blur = A.Compose(\n",
    "    [\n",
    "        A.RandomFog(fog_coef_lower=1, fog_coef_upper=1, alpha_coef=0.05, p=0.3),\n",
    "        A.MotionBlur(blur_limit=(180,210), always_apply=True), \n",
    "        A.Blur(blur_limit=(20,35), p=1),\n",
    "        A.RandomBrightnessContrast(\n",
    "            brightness_limit=[-0.7, -0.3], \n",
    "            contrast_limit=0.1,\n",
    "            brightness_by_max=True, p=0.13\n",
    "        )\n",
    "    ]\n",
    ")"
   ]
  },
  {
   "cell_type": "code",
   "execution_count": 363,
   "metadata": {},
   "outputs": [],
   "source": [
    "# готовмим 150 плохих фоток\n",
    "np.random.seed(42)\n",
    "img_to_trasnfor_blur_0 = np.random.choice(zero_class_imgs, size=80, replace=True)\n",
    "img_to_trasnfor_blur_1 = np.random.choice(first_class_imgs, size=140, replace=True)\n",
    "img_to_trasnfor_blur = np.concatenate((img_to_trasnfor_blur_0, img_to_trasnfor_blur_1))"
   ]
  },
  {
   "cell_type": "code",
   "execution_count": 364,
   "metadata": {},
   "outputs": [
    {
     "name": "stderr",
     "output_type": "stream",
     "text": [
      "100%|████████████████████████████████████████████████████████████████████████████████| 220/220 [08:44<00:00,  2.38s/it]\n"
     ]
    }
   ],
   "source": [
    "for i in tqdm(img_to_trasnfor_blur):\n",
    "    solt = np.random.randint(0, 1000)\n",
    "    destination_1 = f\"../prepare_datasets/data_add_all_balanced/all/{i}\"\n",
    "    destination_2 = f\"../prepare_datasets/data_add_all_balanced/train_add/{'2_' + i.split('.')[0] + '_' + str(solt) + '_blur.jpg'}\"\n",
    "    image = cv2.imread(destination_1)\n",
    "    image = cv2.cvtColor(image, cv2.COLOR_BGR2RGB)\n",
    "\n",
    "    transformed = transform_add_blur(image=image)\n",
    "    cv2.imwrite(destination_2, cv2.cvtColor(transformed['image'], cv2.COLOR_RGB2BGR))"
   ]
  },
  {
   "cell_type": "markdown",
   "metadata": {},
   "source": [
    "#### Затем полученные 300 плохих дополнительно кропать и флипаь до 1ого класса"
   ]
  },
  {
   "cell_type": "code",
   "execution_count": 365,
   "metadata": {},
   "outputs": [],
   "source": [
    "img_classes = {i: i.split('_')[0] for i in os.listdir('../prepare_datasets/data_add_all_balanced/train_add/')}"
   ]
  },
  {
   "cell_type": "code",
   "execution_count": 366,
   "metadata": {},
   "outputs": [],
   "source": [
    "blur_imgs_1 = [k for k, v in img_classes.items() if v == '2']"
   ]
  },
  {
   "cell_type": "code",
   "execution_count": 367,
   "metadata": {},
   "outputs": [
    {
     "data": {
      "text/plain": [
       "220"
      ]
     },
     "execution_count": 367,
     "metadata": {},
     "output_type": "execute_result"
    }
   ],
   "source": [
    "len(blur_imgs_1)"
   ]
  },
  {
   "cell_type": "raw",
   "metadata": {},
   "source": [
    "blur_imgs_1 = blur_imgs_1# + list(data_df[data_df['class']==2]['ID_img'])[:40]"
   ]
  },
  {
   "cell_type": "code",
   "execution_count": 368,
   "metadata": {},
   "outputs": [],
   "source": [
    "# готовмим 150 плохих фоток\n",
    "np.random.seed(42)\n",
    "blur_imgs_to_trasnfor = np.random.choice(blur_imgs_1, size=220, replace=False)"
   ]
  },
  {
   "cell_type": "code",
   "execution_count": 369,
   "metadata": {},
   "outputs": [],
   "source": [
    "transform_add_second_class = A.Compose(\n",
    "    [\n",
    "        A.HorizontalFlip(p=0.8),\n",
    "        A.Rotate(limit=20, p=0.8),\n",
    "#         A.RandomCrop(512, 512),\n",
    "        A.RandomResizedCrop(512, 512, scale=(0.2, 1.0), always_apply=True),\n",
    "    ]\n",
    ")"
   ]
  },
  {
   "cell_type": "code",
   "execution_count": 370,
   "metadata": {},
   "outputs": [
    {
     "name": "stderr",
     "output_type": "stream",
     "text": [
      "100%|████████████████████████████████████████████████████████████████████████████████| 220/220 [00:29<00:00,  7.44it/s]\n"
     ]
    }
   ],
   "source": [
    "for i in tqdm(blur_imgs_to_trasnfor):\n",
    "    solt = np.random.randint(0, 2000)\n",
    "    destination_1 = f\"../prepare_datasets/data_add_all_balanced/train_add/{i}\"\n",
    "    destination_2 = f\"../prepare_datasets/data_add_all_balanced/train_add/{i.split('.')[0] +'_' + str(solt) + '_blur_crop.jpg'}\"\n",
    "    image = cv2.imread(destination_1)\n",
    "    image = cv2.cvtColor(image, cv2.COLOR_BGR2RGB)\n",
    "    if image.shape[0] < 512 or image.shape[1] < 512:\n",
    "        continue\n",
    "    else:\n",
    "        transformed = transform_add_second_class(image=image)\n",
    "        cv2.imwrite(destination_2, cv2.cvtColor(transformed['image'], cv2.COLOR_RGB2BGR))\n"
   ]
  },
  {
   "cell_type": "code",
   "execution_count": 371,
   "metadata": {},
   "outputs": [],
   "source": [
    "# сохраняем разметку"
   ]
  },
  {
   "cell_type": "code",
   "execution_count": 372,
   "metadata": {},
   "outputs": [],
   "source": [
    "cur_pth = Path('..')\n",
    "path_to_img = 'prepare_datasets/data_add_all_balanced'\n",
    "dir_name = 'train_add'\n",
    "img_format = '.jpg'"
   ]
  },
  {
   "cell_type": "code",
   "execution_count": 373,
   "metadata": {},
   "outputs": [
    {
     "data": {
      "text/plain": [
       "['2', '1', '4123', '322', 'blur']"
      ]
     },
     "execution_count": 373,
     "metadata": {},
     "output_type": "execute_result"
    }
   ],
   "source": [
    "i.split('.')[0].split('_')"
   ]
  },
  {
   "cell_type": "code",
   "execution_count": 374,
   "metadata": {},
   "outputs": [
    {
     "data": {
      "text/plain": [
       "True"
      ]
     },
     "execution_count": 374,
     "metadata": {},
     "output_type": "execute_result"
    }
   ],
   "source": [
    "'2' in i.split('.')[0].split('_')"
   ]
  },
  {
   "cell_type": "code",
   "execution_count": 375,
   "metadata": {},
   "outputs": [],
   "source": [
    "def foo(x):\n",
    "    if 'blur' in x.split('.')[0].split('_'):\n",
    "        return 2\n",
    "\n",
    "    if 'zero' in x.split('.')[0].split('_'):\n",
    "        return 0\n",
    "    \n",
    "    if '1' in x.split('.')[0].split('_'):\n",
    "        return 1\n",
    "    \n",
    "    if '0' in x.split('.')[0].split('_'):\n",
    "        return 0"
   ]
  },
  {
   "cell_type": "code",
   "execution_count": 376,
   "metadata": {},
   "outputs": [],
   "source": [
    "df_new = pd.DataFrame(\n",
    "    [[i, foo(i)] for i in os.listdir(cur_pth/path_to_img/dir_name)],    \n",
    "    columns=['ID_img', 'class']\n",
    ").dropna()"
   ]
  },
  {
   "cell_type": "code",
   "execution_count": 377,
   "metadata": {},
   "outputs": [
    {
     "data": {
      "text/html": [
       "<div>\n",
       "<style scoped>\n",
       "    .dataframe tbody tr th:only-of-type {\n",
       "        vertical-align: middle;\n",
       "    }\n",
       "\n",
       "    .dataframe tbody tr th {\n",
       "        vertical-align: top;\n",
       "    }\n",
       "\n",
       "    .dataframe thead th {\n",
       "        text-align: right;\n",
       "    }\n",
       "</style>\n",
       "<table border=\"1\" class=\"dataframe\">\n",
       "  <thead>\n",
       "    <tr style=\"text-align: right;\">\n",
       "      <th></th>\n",
       "      <th>ID_img</th>\n",
       "      <th>class</th>\n",
       "    </tr>\n",
       "  </thead>\n",
       "  <tbody>\n",
       "    <tr>\n",
       "      <th>0</th>\n",
       "      <td>0_3000.jpg</td>\n",
       "      <td>0</td>\n",
       "    </tr>\n",
       "    <tr>\n",
       "      <th>1</th>\n",
       "      <td>0_3000313_zero_crop.jpg</td>\n",
       "      <td>0</td>\n",
       "    </tr>\n",
       "    <tr>\n",
       "      <th>2</th>\n",
       "      <td>0_3001.jpg</td>\n",
       "      <td>0</td>\n",
       "    </tr>\n",
       "    <tr>\n",
       "      <th>3</th>\n",
       "      <td>0_3001431_zero_crop.jpg</td>\n",
       "      <td>0</td>\n",
       "    </tr>\n",
       "    <tr>\n",
       "      <th>4</th>\n",
       "      <td>0_3001606_zero_crop.jpg</td>\n",
       "      <td>0</td>\n",
       "    </tr>\n",
       "    <tr>\n",
       "      <th>...</th>\n",
       "      <td>...</td>\n",
       "      <td>...</td>\n",
       "    </tr>\n",
       "    <tr>\n",
       "      <th>1157</th>\n",
       "      <td>2_220307090137_06b24305e9852f3373fa26e0231ea90...</td>\n",
       "      <td>2</td>\n",
       "    </tr>\n",
       "    <tr>\n",
       "      <th>1158</th>\n",
       "      <td>2_220307090248_c0b2eaf82c3da865fd9a88acfcd8c12...</td>\n",
       "      <td>2</td>\n",
       "    </tr>\n",
       "    <tr>\n",
       "      <th>1159</th>\n",
       "      <td>2_220307090527_9d1251afcc1024f55fcf087280e99ee...</td>\n",
       "      <td>2</td>\n",
       "    </tr>\n",
       "    <tr>\n",
       "      <th>1160</th>\n",
       "      <td>2_220307090527_9d1251afcc1024f55fcf087280e99ee...</td>\n",
       "      <td>2</td>\n",
       "    </tr>\n",
       "    <tr>\n",
       "      <th>1161</th>\n",
       "      <td>2_220307142451_490f9470cfa368874880ab2194775a3...</td>\n",
       "      <td>2</td>\n",
       "    </tr>\n",
       "  </tbody>\n",
       "</table>\n",
       "<p>1162 rows × 2 columns</p>\n",
       "</div>"
      ],
      "text/plain": [
       "                                                 ID_img  class\n",
       "0                                            0_3000.jpg      0\n",
       "1                               0_3000313_zero_crop.jpg      0\n",
       "2                                            0_3001.jpg      0\n",
       "3                               0_3001431_zero_crop.jpg      0\n",
       "4                               0_3001606_zero_crop.jpg      0\n",
       "...                                                 ...    ...\n",
       "1157  2_220307090137_06b24305e9852f3373fa26e0231ea90...      2\n",
       "1158  2_220307090248_c0b2eaf82c3da865fd9a88acfcd8c12...      2\n",
       "1159  2_220307090527_9d1251afcc1024f55fcf087280e99ee...      2\n",
       "1160  2_220307090527_9d1251afcc1024f55fcf087280e99ee...      2\n",
       "1161  2_220307142451_490f9470cfa368874880ab2194775a3...      2\n",
       "\n",
       "[1162 rows x 2 columns]"
      ]
     },
     "execution_count": 377,
     "metadata": {},
     "output_type": "execute_result"
    }
   ],
   "source": [
    "df_new"
   ]
  },
  {
   "cell_type": "code",
   "execution_count": 378,
   "metadata": {},
   "outputs": [],
   "source": [
    "data_df_train = pd.read_csv(\"../train_dataset_train/train.csv\")"
   ]
  },
  {
   "cell_type": "code",
   "execution_count": 385,
   "metadata": {},
   "outputs": [
    {
     "data": {
      "text/plain": [
       "1.0    0.537753\n",
       "2.0    0.274401\n",
       "0.0    0.187845\n",
       "Name: class, dtype: float64"
      ]
     },
     "execution_count": 385,
     "metadata": {},
     "output_type": "execute_result"
    }
   ],
   "source": [
    "data_df_train['class'].value_counts(normalize=True)"
   ]
  },
  {
   "cell_type": "code",
   "execution_count": 379,
   "metadata": {},
   "outputs": [
    {
     "data": {
      "text/plain": [
       "<AxesSubplot:xlabel='class', ylabel='count'>"
      ]
     },
     "execution_count": 379,
     "metadata": {},
     "output_type": "execute_result"
    },
    {
     "data": {
      "image/png": "[encoded data removed]",
      "text/plain": [
       "<Figure size 432x288 with 1 Axes>"
      ]
     },
     "metadata": {
      "needs_background": "light"
     },
     "output_type": "display_data"
    }
   ],
   "source": [
    "sns.countplot(x = \"class\" , data  = data_df)"
   ]
  },
  {
   "cell_type": "code",
   "execution_count": 380,
   "metadata": {},
   "outputs": [
    {
     "data": {
      "text/plain": [
       "<AxesSubplot:xlabel='class', ylabel='count'>"
      ]
     },
     "execution_count": 380,
     "metadata": {},
     "output_type": "execute_result"
    },
    {
     "data": {
      "image/png": "[encoded data removed]",
      "text/plain": [
       "<Figure size 432x288 with 1 Axes>"
      ]
     },
     "metadata": {
      "needs_background": "light"
     },
     "output_type": "display_data"
    }
   ],
   "source": [
    "sns.countplot(x = \"class\" , data  = df_new)"
   ]
  },
  {
   "cell_type": "code",
   "execution_count": 381,
   "metadata": {},
   "outputs": [
    {
     "data": {
      "text/plain": [
       "<AxesSubplot:xlabel='class', ylabel='count'>"
      ]
     },
     "execution_count": 381,
     "metadata": {},
     "output_type": "execute_result"
    },
    {
     "data": {
      "image/png": "[encoded data removed]",
      "text/plain": [
       "<Figure size 432x288 with 1 Axes>"
      ]
     },
     "metadata": {
      "needs_background": "light"
     },
     "output_type": "display_data"
    }
   ],
   "source": [
    "sns.countplot(x = \"class\" , data  = pd.concat([data_df_train, df_new]))"
   ]
  },
  {
   "cell_type": "code",
   "execution_count": 382,
   "metadata": {},
   "outputs": [],
   "source": [
    "df_new.to_csv('../prepare_datasets/data_add_all_balanced/train_add.csv', index=False)"
   ]
  },
  {
   "cell_type": "code",
   "execution_count": 383,
   "metadata": {},
   "outputs": [
    {
     "data": {
      "text/html": [
       "<div>\n",
       "<style scoped>\n",
       "    .dataframe tbody tr th:only-of-type {\n",
       "        vertical-align: middle;\n",
       "    }\n",
       "\n",
       "    .dataframe tbody tr th {\n",
       "        vertical-align: top;\n",
       "    }\n",
       "\n",
       "    .dataframe thead th {\n",
       "        text-align: right;\n",
       "    }\n",
       "</style>\n",
       "<table border=\"1\" class=\"dataframe\">\n",
       "  <thead>\n",
       "    <tr style=\"text-align: right;\">\n",
       "      <th></th>\n",
       "      <th>ID_img</th>\n",
       "      <th>class</th>\n",
       "    </tr>\n",
       "  </thead>\n",
       "  <tbody>\n",
       "    <tr>\n",
       "      <th>0</th>\n",
       "      <td>220301124100_d3815192b7a85e54f935936bbe09496f.jpg</td>\n",
       "      <td>0.0</td>\n",
       "    </tr>\n",
       "    <tr>\n",
       "      <th>1</th>\n",
       "      <td>220301124101_c919e95934b3df93a6149764a498b11f.jpg</td>\n",
       "      <td>0.0</td>\n",
       "    </tr>\n",
       "    <tr>\n",
       "      <th>2</th>\n",
       "      <td>220301124110_69dcd5eb441c4df666dfedde7ac47fc6.jpg</td>\n",
       "      <td>0.0</td>\n",
       "    </tr>\n",
       "    <tr>\n",
       "      <th>3</th>\n",
       "      <td>220301124113_a102c632672df1b5d1e0b7a0fe7360d2.jpg</td>\n",
       "      <td>0.0</td>\n",
       "    </tr>\n",
       "    <tr>\n",
       "      <th>4</th>\n",
       "      <td>220301124127_d28e5d63f63b1306b75db49eecbcd3be.jpg</td>\n",
       "      <td>0.0</td>\n",
       "    </tr>\n",
       "    <tr>\n",
       "      <th>...</th>\n",
       "      <td>...</td>\n",
       "      <td>...</td>\n",
       "    </tr>\n",
       "    <tr>\n",
       "      <th>1157</th>\n",
       "      <td>2_220307090137_06b24305e9852f3373fa26e0231ea90...</td>\n",
       "      <td>2.0</td>\n",
       "    </tr>\n",
       "    <tr>\n",
       "      <th>1158</th>\n",
       "      <td>2_220307090248_c0b2eaf82c3da865fd9a88acfcd8c12...</td>\n",
       "      <td>2.0</td>\n",
       "    </tr>\n",
       "    <tr>\n",
       "      <th>1159</th>\n",
       "      <td>2_220307090527_9d1251afcc1024f55fcf087280e99ee...</td>\n",
       "      <td>2.0</td>\n",
       "    </tr>\n",
       "    <tr>\n",
       "      <th>1160</th>\n",
       "      <td>2_220307090527_9d1251afcc1024f55fcf087280e99ee...</td>\n",
       "      <td>2.0</td>\n",
       "    </tr>\n",
       "    <tr>\n",
       "      <th>1161</th>\n",
       "      <td>2_220307142451_490f9470cfa368874880ab2194775a3...</td>\n",
       "      <td>2.0</td>\n",
       "    </tr>\n",
       "  </tbody>\n",
       "</table>\n",
       "<p>1705 rows × 2 columns</p>\n",
       "</div>"
      ],
      "text/plain": [
       "                                                 ID_img  class\n",
       "0     220301124100_d3815192b7a85e54f935936bbe09496f.jpg    0.0\n",
       "1     220301124101_c919e95934b3df93a6149764a498b11f.jpg    0.0\n",
       "2     220301124110_69dcd5eb441c4df666dfedde7ac47fc6.jpg    0.0\n",
       "3     220301124113_a102c632672df1b5d1e0b7a0fe7360d2.jpg    0.0\n",
       "4     220301124127_d28e5d63f63b1306b75db49eecbcd3be.jpg    0.0\n",
       "...                                                 ...    ...\n",
       "1157  2_220307090137_06b24305e9852f3373fa26e0231ea90...    2.0\n",
       "1158  2_220307090248_c0b2eaf82c3da865fd9a88acfcd8c12...    2.0\n",
       "1159  2_220307090527_9d1251afcc1024f55fcf087280e99ee...    2.0\n",
       "1160  2_220307090527_9d1251afcc1024f55fcf087280e99ee...    2.0\n",
       "1161  2_220307142451_490f9470cfa368874880ab2194775a3...    2.0\n",
       "\n",
       "[1705 rows x 2 columns]"
      ]
     },
     "execution_count": 383,
     "metadata": {},
     "output_type": "execute_result"
    }
   ],
   "source": [
    "pd.concat([data_df_train, df_new])#.to_csv('../prepare_datasets/data_add_all_balanced/train_all_add.csv', index=False)"
   ]
  },
  {
   "cell_type": "code",
   "execution_count": 384,
   "metadata": {},
   "outputs": [],
   "source": [
    "pd.concat([data_df_train, df_new]).to_csv('../prepare_datasets/data_add_all_balanced/train_all_add.csv', index=False)"
   ]
  },
  {
   "cell_type": "code",
   "execution_count": null,
   "metadata": {},
   "outputs": [],
   "source": []
  }
 ],
 "metadata": {
  "accelerator": "GPU",
  "colab": {
   "name": "Уфа_baseline.ipynb",
   "provenance": []
  },
  "kernelspec": {
   "display_name": "Python 3 (ipykernel)",
   "language": "python",
   "name": "python3"
  },
  "language_info": {
   "codemirror_mode": {
    "name": "ipython",
    "version": 3
   },
   "file_extension": ".py",
   "mimetype": "text/x-python",
   "name": "python",
   "nbconvert_exporter": "python",
   "pygments_lexer": "ipython3",
   "version": "3.9.7"
  }
 },
 "nbformat": 4,
 "nbformat_minor": 1
}
